{
 "cells": [
  {
   "cell_type": "markdown",
   "id": "a413d91c-c585-4f2c-84c4-4a57b2cf4372",
   "metadata": {},
   "source": [
    "# [Polars](https://www.pola.rs/) cheat sheet\n",
    "\n",
    "[![Polars cheat sheet: download as PDF](https://img.shields.io/badge/Polars%20cheat%20sheet-Download%20as%20PDF-green)](https://franzdiebold.github.io/polars-cheat-sheet/Polars_cheat_sheet.pdf)\n",
    "\n",
    "Most examples were taken from the official [Polars user guide](https://pola-rs.github.io/polars-book/user-guide/)."
   ]
  },
  {
   "cell_type": "markdown",
   "id": "8da10053-1ff7-49a6-bb81-3abd21ff6701",
   "metadata": {},
   "source": [
    "### Install"
   ]
  },
  {
   "cell_type": "code",
   "execution_count": null,
   "id": "dfcf679b-a9f4-4d8d-9db8-d293078b55df",
   "metadata": {},
   "outputs": [],
   "source": [
    "!pip install polars"
   ]
  },
  {
   "cell_type": "markdown",
   "id": "c31fa6b4-f2e8-4846-bcd3-cfbf6607f926",
   "metadata": {},
   "source": [
    "### Import"
   ]
  },
  {
   "cell_type": "code",
   "execution_count": 1,
   "id": "3d49a140-6a2d-420d-a74b-ca92c2e67e26",
   "metadata": {
    "pycharm": {
     "is_executing": true
    }
   },
   "outputs": [],
   "source": [
    "import polars as pl"
   ]
  },
  {
   "cell_type": "markdown",
   "id": "19dddd3a-80e1-4309-8472-07d8fcb79c99",
   "metadata": {},
   "source": [
    "### Reading data frames"
   ]
  },
  {
   "cell_type": "code",
   "execution_count": 2,
   "id": "c36161bf-1ad1-4966-a6d6-40cbb9dc6a6d",
   "metadata": {},
   "outputs": [],
   "source": [
    "# Create\n",
    "df = pl.DataFrame(\n",
    "    {\n",
    "        \"nrs\": [1, 2, 3, None, 5],\n",
    "        \"names\": [\"foo\", \"ham\", \"spam\", \"egg\", None],\n",
    "        \"random\": [0.3, 0.7, 0.1, 0.9, 0.6],\n",
    "        \"groups\": [\"A\", \"A\", \"B\", \"C\", \"B\"],\n",
    "    }\n",
    ")\n",
    "\n",
    "# CSV\n",
    "df = pl.read_csv(\"https://j.mp/iriscsv\", has_header=True)\n",
    "\n",
    "# Parquet\n",
    "df = pl.read_parquet(\"path.parquet\")"
   ]
  },
  {
   "cell_type": "markdown",
   "id": "ae4007ff-42c0-4d08-82d2-2e41acacb076",
   "metadata": {},
   "source": [
    "### Querying data"
   ]
  },
  {
   "cell_type": "code",
   "execution_count": 3,
   "id": "913e57a2-dd27-4ce2-921a-6b7304f96853",
   "metadata": {},
   "outputs": [
    {
     "data": {
      "text/html": [
       "<div>\n",
       "<style scoped>\n",
       "    .dataframe tbody tr th:only-of-type {\n",
       "        vertical-align: middle;\n",
       "    }\n",
       "\n",
       "    .dataframe tbody tr th {\n",
       "        vertical-align: top;\n",
       "    }\n",
       "\n",
       "    .dataframe thead th {\n",
       "        text-align: right;\n",
       "    }\n",
       "</style>\n",
       "<table border=\"1 \"class=\"dataframe \">\n",
       "<thead>\n",
       "<tr>\n",
       "<th>\n",
       "nrs\n",
       "</th>\n",
       "<th>\n",
       "names\n",
       "</th>\n",
       "</tr>\n",
       "<tr>\n",
       "<td>\n",
       "i64\n",
       "</td>\n",
       "<td>\n",
       "str\n",
       "</td>\n",
       "</tr>\n",
       "</thead>\n",
       "<tbody>\n",
       "<tr>\n",
       "<td>\n",
       "1\n",
       "</td>\n",
       "<td>\n",
       "\"foo\"\n",
       "</td>\n",
       "</tr>\n",
       "<tr>\n",
       "<td>\n",
       "2\n",
       "</td>\n",
       "<td>\n",
       "\"ham\"\n",
       "</td>\n",
       "</tr>\n",
       "<tr>\n",
       "<td>\n",
       "3\n",
       "</td>\n",
       "<td>\n",
       "\"spam\"\n",
       "</td>\n",
       "</tr>\n",
       "<tr>\n",
       "<td>\n",
       "null\n",
       "</td>\n",
       "<td>\n",
       "\"egg\"\n",
       "</td>\n",
       "</tr>\n",
       "<tr>\n",
       "<td>\n",
       "5\n",
       "</td>\n",
       "<td>\n",
       "null\n",
       "</td>\n",
       "</tr>\n",
       "</tbody>\n",
       "</table>\n",
       "</div>"
      ],
      "text/plain": [
       "shape: (5, 2)\n",
       "┌──────┬───────┐\n",
       "│ nrs  ┆ names │\n",
       "│ ---  ┆ ---   │\n",
       "│ i64  ┆ str   │\n",
       "╞══════╪═══════╡\n",
       "│ 1    ┆ foo   │\n",
       "├╌╌╌╌╌╌┼╌╌╌╌╌╌╌┤\n",
       "│ 2    ┆ ham   │\n",
       "├╌╌╌╌╌╌┼╌╌╌╌╌╌╌┤\n",
       "│ 3    ┆ spam  │\n",
       "├╌╌╌╌╌╌┼╌╌╌╌╌╌╌┤\n",
       "│ null ┆ egg   │\n",
       "├╌╌╌╌╌╌┼╌╌╌╌╌╌╌┤\n",
       "│ 5    ┆ null  │\n",
       "└──────┴───────┘"
      ]
     },
     "execution_count": 3,
     "metadata": {},
     "output_type": "execute_result"
    }
   ],
   "source": [
    "# Select columns\n",
    "df.select([\"nrs\", \"names\"])"
   ]
  },
  {
   "cell_type": "code",
   "execution_count": 4,
   "id": "03595339-2609-48bd-a0e8-28505877060a",
   "metadata": {},
   "outputs": [
    {
     "data": {
      "text/html": [
       "<div>\n",
       "<style scoped>\n",
       "    .dataframe tbody tr th:only-of-type {\n",
       "        vertical-align: middle;\n",
       "    }\n",
       "\n",
       "    .dataframe tbody tr th {\n",
       "        vertical-align: top;\n",
       "    }\n",
       "\n",
       "    .dataframe thead th {\n",
       "        text-align: right;\n",
       "    }\n",
       "</style>\n",
       "<table border=\"1 \"class=\"dataframe \">\n",
       "<thead>\n",
       "<tr>\n",
       "<th>\n",
       "nrs\n",
       "</th>\n",
       "<th>\n",
       "names\n",
       "</th>\n",
       "<th>\n",
       "random\n",
       "</th>\n",
       "<th>\n",
       "groups\n",
       "</th>\n",
       "</tr>\n",
       "<tr>\n",
       "<td>\n",
       "i64\n",
       "</td>\n",
       "<td>\n",
       "str\n",
       "</td>\n",
       "<td>\n",
       "f64\n",
       "</td>\n",
       "<td>\n",
       "str\n",
       "</td>\n",
       "</tr>\n",
       "</thead>\n",
       "<tbody>\n",
       "<tr>\n",
       "<td>\n",
       "3\n",
       "</td>\n",
       "<td>\n",
       "\"spam\"\n",
       "</td>\n",
       "<td>\n",
       "0.1\n",
       "</td>\n",
       "<td>\n",
       "\"B\"\n",
       "</td>\n",
       "</tr>\n",
       "<tr>\n",
       "<td>\n",
       "5\n",
       "</td>\n",
       "<td>\n",
       "null\n",
       "</td>\n",
       "<td>\n",
       "0.6\n",
       "</td>\n",
       "<td>\n",
       "\"B\"\n",
       "</td>\n",
       "</tr>\n",
       "</tbody>\n",
       "</table>\n",
       "</div>"
      ],
      "text/plain": [
       "shape: (2, 4)\n",
       "┌─────┬───────┬────────┬────────┐\n",
       "│ nrs ┆ names ┆ random ┆ groups │\n",
       "│ --- ┆ ---   ┆ ---    ┆ ---    │\n",
       "│ i64 ┆ str   ┆ f64    ┆ str    │\n",
       "╞═════╪═══════╪════════╪════════╡\n",
       "│ 3   ┆ spam  ┆ 0.1    ┆ B      │\n",
       "├╌╌╌╌╌┼╌╌╌╌╌╌╌┼╌╌╌╌╌╌╌╌┼╌╌╌╌╌╌╌╌┤\n",
       "│ 5   ┆ null  ┆ 0.6    ┆ B      │\n",
       "└─────┴───────┴────────┴────────┘"
      ]
     },
     "execution_count": 4,
     "metadata": {},
     "output_type": "execute_result"
    }
   ],
   "source": [
    "# Filter\n",
    "df.filter(pl.col(\"groups\") == \"B\")"
   ]
  },
  {
   "cell_type": "markdown",
   "id": "67cdb47c-7025-46f6-bad0-c0fb7c2f0866",
   "metadata": {},
   "source": [
    "### Aggregations"
   ]
  }
 ],
 "metadata": {
  "kernelspec": {
   "display_name": "Python 3 (ipykernel)",
   "language": "python",
   "name": "python3"
  },
  "language_info": {
   "codemirror_mode": {
    "name": "ipython",
    "version": 3
   },
   "file_extension": ".py",
   "mimetype": "text/x-python",
   "name": "python",
   "nbconvert_exporter": "python",
   "pygments_lexer": "ipython3",
   "version": "3.10.6"
  }
 },
 "nbformat": 4,
 "nbformat_minor": 5
}
