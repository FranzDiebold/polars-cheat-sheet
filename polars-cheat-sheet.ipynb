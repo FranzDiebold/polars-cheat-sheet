{
 "cells": [
  {
   "cell_type": "markdown",
   "id": "a413d91c-c585-4f2c-84c4-4a57b2cf4372",
   "metadata": {},
   "source": [
    "# [Polars](https://www.pola.rs/) cheat sheet\n",
    "\n",
    "Most examples were taken from the official [Polars user guide](https://pola-rs.github.io/polars-book/user-guide/)."
   ]
  },
  {
   "cell_type": "markdown",
   "id": "8da10053-1ff7-49a6-bb81-3abd21ff6701",
   "metadata": {},
   "source": [
    "### Install"
   ]
  },
  {
   "cell_type": "code",
   "execution_count": null,
   "id": "dfcf679b-a9f4-4d8d-9db8-d293078b55df",
   "metadata": {},
   "outputs": [],
   "source": [
    "!pip install polars"
   ]
  },
  {
   "cell_type": "markdown",
   "id": "c31fa6b4-f2e8-4846-bcd3-cfbf6607f926",
   "metadata": {},
   "source": [
    "### Import"
   ]
  },
  {
   "cell_type": "code",
   "execution_count": 1,
   "id": "3d49a140-6a2d-420d-a74b-ca92c2e67e26",
   "metadata": {
    "pycharm": {
     "is_executing": true
    }
   },
   "outputs": [],
   "source": [
    "import polars as pl"
   ]
  },
  {
   "cell_type": "markdown",
   "id": "19dddd3a-80e1-4309-8472-07d8fcb79c99",
   "metadata": {},
   "source": [
    "### Reading data frames"
   ]
  },
  {
   "cell_type": "code",
   "execution_count": 2,
   "id": "c36161bf-1ad1-4966-a6d6-40cbb9dc6a6d",
   "metadata": {},
   "outputs": [],
   "source": [
    "# Create\n",
    "df = pl.DataFrame(\n",
    "    {\n",
    "        \"nrs\": [1, 2, 3, None, 5],\n",
    "        \"names\": [\"foo\", \"ham\", \"spam\", \"egg\", None],\n",
    "        \"random\": [0.3, 0.7, 0.1, 0.9, 0.6],\n",
    "        \"groups\": [\"A\", \"A\", \"B\", \"C\", \"B\"],\n",
    "    }\n",
    ")\n",
    "\n",
    "# CSV\n",
    "df = pl.read_csv(\"https://j.mp/iriscsv\", has_header=True)\n",
    "\n",
    "# Parquet\n",
    "df = pl.read_parquet(\"path.parquet\")"
   ]
  }
 ],
 "metadata": {
  "kernelspec": {
   "display_name": "Python 3 (ipykernel)",
   "language": "python",
   "name": "python3"
  },
  "language_info": {
   "codemirror_mode": {
    "name": "ipython",
    "version": 3
   },
   "file_extension": ".py",
   "mimetype": "text/x-python",
   "name": "python",
   "nbconvert_exporter": "python",
   "pygments_lexer": "ipython3",
   "version": "3.10.6"
  }
 },
 "nbformat": 4,
 "nbformat_minor": 5
}
